{
 "cells": [
  {
   "cell_type": "markdown",
   "metadata": {},
   "source": [
    "### Name     :-  Velamuri Venkata Saikota Krishna Karthik.\n",
    "\n",
    "### Roll No. :- E21025\n",
    "\n",
    "### Email Id :- Velamuri.kkarthik@praxis.ac.in"
   ]
  },
  {
   "cell_type": "markdown",
   "metadata": {},
   "source": [
    "# Session - 1 \n",
    "# Learning Basics"
   ]
  },
  {
   "cell_type": "markdown",
   "metadata": {},
   "source": [
    "#### Exercise\n",
    "For a certain academic subject the students are evaluated based on five tests - \n",
    "* Quiz 1 (20 marks - 10% Weight), \n",
    "* Quiz 2 (20 marks - 10% Weight), \n",
    "* Class test (50 marks - 25% Weight), \n",
    "* Assignment (100 marks - 25% weight) and \n",
    "* Project (200 marks - 30% weight). \n",
    "\n",
    "Design a program that will prompt the user for marks for each of the tests and calculate the overall marks (out of 100)."
   ]
  },
  {
   "cell_type": "code",
   "execution_count": 33,
   "metadata": {},
   "outputs": [
    {
     "name": "stdout",
     "output_type": "stream",
     "text": [
      "Enter the marks  out of 20 in quiz 1 :15\n",
      "Enter the marks out of 20 in quiz 2 :16\n",
      "Enter the marks out of 50 in class_test : 45\n",
      "Enter the marks out of 100 in Assignment : 90\n",
      "Enter the marks out of 200 in Project : 185\n",
      "The Overall Total Mars out of 100 are :  88.25\n"
     ]
    }
   ],
   "source": [
    "quiz1 = float(input('Enter the marks  out of 20 in quiz 1 :'))\n",
    "quiz2 = float(input('Enter the marks out of 20 in quiz 2 :'))\n",
    "Class_test = float(input('Enter the marks out of 50 in class_test : '))   # Inputting all marks\n",
    "Assignment = float(input('Enter the marks out of 100 in Assignment : '))\n",
    "Project = float(input('Enter the marks out of 200 in Project : '))\n",
    "\n",
    "# Calculating total marks based on weights\n",
    "\n",
    "Total_Marks = (quiz1/20)*0.1+(quiz2/20)*0.1+(Class_test/50)*0.25+(Assignment/100)*0.25+(Project/200)*0.3  \n",
    "\n",
    "if (quiz1 > 20) and (quiz2 > 20) and (Class_test > 50) and (Assignment > 100) and (Project > 200):\n",
    "    print(\"Please enter valid marks\")\n",
    "\n",
    "Overall_Total=Total_Marks*100\n",
    "\n",
    "print(\"The Overall Total Mars out of 100 are : \" ,Overall_Total) "
   ]
  },
  {
   "cell_type": "markdown",
   "metadata": {},
   "source": [
    "#### Problem 4 with loop\n",
    "\n",
    "#### Problem 4\n",
    "If a five-digit number is input through the keyboard, write a program to calculate the sum of its digits."
   ]
  },
  {
   "cell_type": "code",
   "execution_count": 9,
   "metadata": {},
   "outputs": [
    {
     "name": "stdout",
     "output_type": "stream",
     "text": [
      "Enter a 5 digit number 12345\n",
      "The sum of the digits is : 15\n"
     ]
    }
   ],
   "source": [
    "number =int(input(\"Enter a 5 digit number \"))\n",
    "Sum = 0\n",
    "a = len(str(number))   # finding length of number \n",
    "if (a == 5):\n",
    "    while (number != 0):\n",
    "        Sum = Sum + (number % 10)     # claculating sum if its a 5 digit number\n",
    "        number = number//10\n",
    "else :\n",
    "    print(\"Please enter a 5 digit number.\")  # condition if number is not a 5 digit number\n",
    "\n",
    "print(\"The sum of the digits is :\",Sum)"
   ]
  },
  {
   "cell_type": "markdown",
   "metadata": {},
   "source": [
    "#### Exercise\n",
    "If a five-digit number is input through the keyboard, write a program to print a new number by adding one to each of its digits. For example if the number that is input is 12371 then the output should be displayed as 23482."
   ]
  },
  {
   "cell_type": "code",
   "execution_count": 60,
   "metadata": {},
   "outputs": [
    {
     "name": "stdout",
     "output_type": "stream",
     "text": [
      "Enter a 5 digit number 12371\n",
      "23482"
     ]
    }
   ],
   "source": [
    "n = int(input(\"Enter a 5 digit number \"))\n",
    "res = [int(x) for x in str(n)]             # using list comprehension to split the 5 digit number (updated code recently)\n",
    "if len(res) != 5 :\n",
    "    print(\"Please enter a 5 digit number.\")\n",
    "\n",
    "else :\n",
    "    for a in res :\n",
    "        final_res =a+1\n",
    "        print(final_res,end = '')"
   ]
  },
  {
   "cell_type": "markdown",
   "metadata": {},
   "source": [
    "#### Exercise\n",
    "Create a function for problem 4\n",
    "\n",
    "#### Problem 4\n",
    "If a five-digit number is input through the keyboard, write a program to calculate the sum of its digits."
   ]
  },
  {
   "cell_type": "code",
   "execution_count": 27,
   "metadata": {},
   "outputs": [
    {
     "data": {
      "text/plain": [
       "31"
      ]
     },
     "execution_count": 27,
     "metadata": {},
     "output_type": "execute_result"
    }
   ],
   "source": [
    "def sum(number):\n",
    "    Sum = 0\n",
    "    a = len(str(number))   # finding length of number \n",
    "    if (a == 5):\n",
    "        while (number != 0):\n",
    "            Sum = Sum + (number % 10)     # claculating sum if its a 5 digit number\n",
    "            number = number//10\n",
    "    else :\n",
    "        print(\"Please enter a 5 digit number.\")  # condition if number is not a 5 digit number\n",
    "    return Sum\n",
    "#print(\"The sum of the digits is :\",Sum)\n",
    "sum(25978)"
   ]
  },
  {
   "cell_type": "code",
   "execution_count": 2,
   "metadata": {},
   "outputs": [
    {
     "name": "stdout",
     "output_type": "stream",
     "text": [
      "Please enter a 5 digit number.\n"
     ]
    },
    {
     "data": {
      "text/plain": [
       "0"
      ]
     },
     "execution_count": 2,
     "metadata": {},
     "output_type": "execute_result"
    }
   ],
   "source": [
    "def sum(number):\n",
    "    Sum = 0\n",
    "    a = len(str(number))   # finding length of number \n",
    "    if (a == 5):\n",
    "        while (number != 0):\n",
    "            Sum = Sum + (number % 10)     # claculating sum if its a 5 digit number\n",
    "            number = number//10\n",
    "    else :\n",
    "        print(\"Please enter a 5 digit number.\")  # condition if number is not a 5 digit number\n",
    "    return Sum\n",
    "#print(\"The sum of the digits is :\",Sum)\n",
    "sum(259789)"
   ]
  },
  {
   "cell_type": "markdown",
   "metadata": {},
   "source": [
    "# Session 2\n",
    "# Control structures and for loop"
   ]
  },
  {
   "cell_type": "markdown",
   "metadata": {},
   "source": [
    "#### Exercise:\n",
    "\n",
    "**Recall the problem:**\n",
    "\n",
    "For a certain academic subject the students are evaluated based on five tests -\n",
    "\n",
    "* Quiz 1 (20 marks - 10% Weight),\n",
    "* Quiz 2 (20 marks - 10% Weight),\n",
    "* Class test (50 marks - 25% Weight),\n",
    "* Assignment (100 marks - 25% weight) and\n",
    "* Project (200 marks - 30% weight).\n",
    "\n",
    "Design a program that will prompt the user for marks for each of the tests and calculate the overall marks (out of 100).\n",
    "\n",
    "#### Add an extension to the problem to display grades:\n",
    "\n",
    "Display the grades of students using the following table:\n",
    "\n",
    "    Score\t\tGrade\n",
    "\t>= 60\t\tFirst Class\n",
    "\t>= 40\t\tSecond Class\n",
    "\t< 40\t\tFail\n"
   ]
  },
  {
   "cell_type": "code",
   "execution_count": 61,
   "metadata": {},
   "outputs": [
    {
     "name": "stdout",
     "output_type": "stream",
     "text": [
      "Enter the marks  out of 20 in quiz 1 :15\n",
      "Enter the marks out of 20 in quiz 2 :20\n",
      "Enter the marks out of 50 in class_test : 47\n",
      "Enter the marks out of 100 in Assignment : 92\n",
      "Enter the marks out of 200 in Project : 190\n",
      "The Overall Total Mars out of 100 are :  92.5\n",
      "First Class\n"
     ]
    }
   ],
   "source": [
    "quiz1 = float(input('Enter the marks  out of 20 in quiz 1 :'))\n",
    "quiz2 = float(input('Enter the marks out of 20 in quiz 2 :'))\n",
    "Class_test = float(input('Enter the marks out of 50 in class_test : '))   # Inputting all marks\n",
    "Assignment = float(input('Enter the marks out of 100 in Assignment : '))\n",
    "Project = float(input('Enter the marks out of 200 in Project : '))\n",
    "\n",
    "# Calculating total marks based on weights\n",
    "\n",
    "Total_Marks = (quiz1/20)*0.1+(quiz2/20)*0.1+(Class_test/50)*0.25+(Assignment/100)*0.25+(Project/200)*0.3  \n",
    "\n",
    "if (quiz1 > 20) and (quiz2 > 20) and (Class_test > 50) and (Assignment > 100) and (Project > 200):\n",
    "    print(\"Please enter valid marks\")\n",
    "\n",
    "Overall_Total=Total_Marks*100\n",
    "\n",
    "print(\"The Overall Total Mars out of 100 are : \" ,Overall_Total)\n",
    "\n",
    "if Overall_Total >= 60:\n",
    "    print(\"First Class\")     # conditions to determine the results of the student\n",
    "elif Overall_Total >= 40:\n",
    "    print(\"Second Class\")\n",
    "elif Overall_Total < 40 :\n",
    "    print(\"Fail\")"
   ]
  },
  {
   "cell_type": "markdown",
   "metadata": {},
   "source": [
    "#### Exercise:\n",
    "\n",
    "**Recall the problem:**\n",
    "\n",
    "How about prompting the user for the number of hours and using the input value to compute the total pay?\n",
    "\n",
    "**Include a modification**\n",
    "\n",
    "Write a program to prompt the user for hours and rate per hour to compute the gross pay. The pay computation should be such that the employees should get 1.5 times the hourly rate for hours worked above 40 hours."
   ]
  },
  {
   "cell_type": "code",
   "execution_count": 63,
   "metadata": {},
   "outputs": [
    {
     "name": "stdout",
     "output_type": "stream",
     "text": [
      "Enter the number of hours worked : 50\n",
      "Enter the Hourly_Rate : 100\n",
      "The Total Pay user is :  5500.0\n"
     ]
    }
   ],
   "source": [
    "Hours_Worked = int(input(\"Enter the number of hours worked : \"))\n",
    "Hourly_Rate = int(input(\"Enter the Hourly_Rate : \"))\n",
    "\n",
    "if Hours_Worked > 40:                                                 # condition if hours worked are greater than 40.\n",
    "    Total_Pay = (Hourly_Rate*40) + (Hours_Worked-40)*1.5*Hourly_Rate  # calculating total pay according to condition \n",
    "else :                                                                # for extra hours worked.\n",
    "    Total_Pay = Hourly_Rate* Hours_Worked                           # condition if hours worked are less than or equal to 40.\n",
    "print(\"The Total Pay user is : \",Total_Pay)"
   ]
  },
  {
   "cell_type": "markdown",
   "metadata": {},
   "source": [
    "#### Exercise:\n",
    "\n",
    "Rewrite the pay program (refer problem 2) using try and expect so that the program handles non-numeric input gracefully by printing a message and exiting the program. The following shows two executions of the program:\n",
    "\n",
    "\tEnter hours: 20\n",
    "\tEnter rate:  nine\n",
    "\tError, please enter numeric input"
   ]
  },
  {
   "cell_type": "code",
   "execution_count": 65,
   "metadata": {},
   "outputs": [
    {
     "name": "stdout",
     "output_type": "stream",
     "text": [
      "Enter the number of hours worked : 20\n",
      "Enter the Hourly_Rate : nine\n",
      "Error, please enter numeric values ony\n"
     ]
    }
   ],
   "source": [
    "# Error handing done by usinf try and except if user enters non numeric values for \"Hourly_Rate\" and \"Hours_Worked\".\n",
    "\n",
    "try:\n",
    "    Hours_Worked = int(input(\"Enter the number of hours worked : \"))\n",
    "    Hourly_Rate = int(input(\"Enter the Hourly_Rate : \"))\n",
    "\n",
    "    if Hours_Worked > 40:                                               # condition if hours worked are greater than 40.\n",
    "        Total_Pay = (Hourly_Rate*40) + (Hours_Worked-40)*1.5*Hourly_Rate  # calculating total pay according to condition\n",
    "    else :\n",
    "        Total_Pay = Hourly_Rate* Hours_Worked       # condition if hours worked are less than or equal to 40.\n",
    "    print(\"The Total Pay user is : \",Total_Pay)\n",
    "except:\n",
    "    print('Error, please enter numeric values ony')   # except if entered inputs are non numeric"
   ]
  },
  {
   "cell_type": "markdown",
   "metadata": {},
   "source": [
    "#### Exercise : \n",
    "Write a program to prompt the user for hours to compute the gross pay. The pay computation should be such that the employees should get 1.5 times the hourly rate for hours worked above 40 hours.\n",
    "Further Modification : do not let user to enter number below 0 and above 80"
   ]
  },
  {
   "cell_type": "code",
   "execution_count": 6,
   "metadata": {},
   "outputs": [
    {
     "name": "stdout",
     "output_type": "stream",
     "text": [
      "Enter the number of hours worked : 90\n",
      "Worked time should be between 0 and 80 hours\n"
     ]
    }
   ],
   "source": [
    "# Error handing done by using try and except if user enters non numeric values for \"Hourly_Rate\" and \"Hours_Worked\".\n",
    "\n",
    "try:\n",
    "    Hours_Worked = int(input(\"Enter the number of hours worked : \"))\n",
    "    if (Hours_Worked > 0) and (Hours_Worked < 80):                     # condition if woring hours are between 0 and 80.\n",
    "        Hourly_Rate = int(input(\"Enter the Hourly_Rate : \"))\n",
    "        if Hours_Worked > 40:                                               # condition if hours worked are greater than 40.\n",
    "            Total_Pay = (Hourly_Rate*40) + (Hours_Worked-40)*1.5*Hourly_Rate  # calculating total pay according to condition\n",
    "        else :\n",
    "            Total_Pay = Hourly_Rate* Hours_Worked       # condition if hours worked are less than or equal to 40.\n",
    "        print(\"The Total Pay user is : \",Total_Pay)\n",
    "    else :\n",
    "        print(\"Worked time should be between 0 and 80 hours\")\n",
    "except:\n",
    "    print('Error, please enter numeric values ony')   # except if entered inputs are non numeric"
   ]
  },
  {
   "cell_type": "markdown",
   "metadata": {},
   "source": [
    "#### Exercise\n",
    "#### Donot use pre-defined functions\n",
    "*1. Calculating the sum of numbers in a list.*\n",
    "*2. Counting the number of elements present in a list.*\n",
    "*3. Finding the largest number in a sequence.*\n",
    "*4. Finding the smallest number in a sequence.*"
   ]
  },
  {
   "cell_type": "code",
   "execution_count": 11,
   "metadata": {},
   "outputs": [
    {
     "name": "stdout",
     "output_type": "stream",
     "text": [
      "The Sum of numbers in the List is :  28\n"
     ]
    }
   ],
   "source": [
    "# 1. Sum of numbers in a list.\n",
    "numbers_list = [1,2,3,4,5,6,7]     # defining the lsit\n",
    "Sum =0                             # Initializing the sum\n",
    "for j in numbers_list:\n",
    "    Sum = Sum + j               # calculating sum for each iteration.\n",
    "print(\"The Sum of numbers in the List is : \", Sum)"
   ]
  },
  {
   "cell_type": "code",
   "execution_count": 9,
   "metadata": {},
   "outputs": [
    {
     "name": "stdout",
     "output_type": "stream",
     "text": [
      "Please enter the count of numbers to be in List : 7\n",
      "Enter a number for List : 1\n",
      "Enter a number for List : 2\n",
      "Enter a number for List : 3\n",
      "Enter a number for List : 4\n",
      "Enter a number for List : 5\n",
      "Enter a number for List : 6\n",
      "Enter a number for List : 7\n",
      "The list of entered numbers is : [1, 2, 3, 4, 5, 6, 7]\n",
      "The Sum of numbers in the List is : 28\n"
     ]
    }
   ],
   "source": [
    "# 1.     Updated code.\n",
    "\n",
    "numbers_list = []                   # Initializing list to store the numbers.\n",
    "  \n",
    "n = int(input(\"Please enter the count of numbers to be in List : \"))   # user inputs no.of elements required in list.\n",
    "for i in range(0, n):\n",
    "    numbers = int(input(\"Enter a number for List : \"))                # user inputs the elements in list. \n",
    "    numbers_list.append(numbers)                                      # for each iteration appending the user inputted elements.\n",
    "print(\"The list of entered numbers is :\",numbers_list)\n",
    "Sum =0                                                       # Initializing the sum\n",
    "for j in numbers_list:\n",
    "    Sum = Sum + j                                            # calculating sum for each iteration.\n",
    "print(\"The Sum of numbers in the List is :\", Sum)"
   ]
  },
  {
   "cell_type": "code",
   "execution_count": 13,
   "metadata": {},
   "outputs": [
    {
     "name": "stdout",
     "output_type": "stream",
     "text": [
      "The number of elements in the List is :  7\n"
     ]
    }
   ],
   "source": [
    "# 2 . Calculating number of elements in list\n",
    "numbers_list = [1,2,3,4,5,6,7]     # defining the lsit\n",
    "count =0                             # Initializing the count\n",
    "for j in numbers_list:\n",
    "    count = count + 1               # calculating count by adding 1  for each iteration.\n",
    "print(\"The number of elements in the List is : \", count)"
   ]
  },
  {
   "cell_type": "code",
   "execution_count": 14,
   "metadata": {},
   "outputs": [
    {
     "name": "stdout",
     "output_type": "stream",
     "text": [
      "The Largest of numbers in the List is :  7\n"
     ]
    }
   ],
   "source": [
    "# 3. Finding the largest number in a sequence\n",
    "\n",
    "numbers_list = [1,2,3,4,5,6,7]     # defining the lsit\n",
    "largest =0                             # Initializing the largest number to 0 \n",
    "for j in numbers_list:\n",
    "    if largest < j:          # condition if element in particular iteration is greater than the largest till that iteration\n",
    "        largest = j               # calculating largest number for each iteration.\n",
    "print(\"The Largest of numbers in the List is : \", largest)"
   ]
  },
  {
   "cell_type": "code",
   "execution_count": 15,
   "metadata": {},
   "outputs": [
    {
     "name": "stdout",
     "output_type": "stream",
     "text": [
      "Please enter the count of numbers to be in List : 6\n",
      "Enter a number for List : 25\n",
      "Enter a number for List : 11\n",
      "Enter a number for List : 666\n",
      "Enter a number for List : 97\n",
      "Enter a number for List : 999\n",
      "Enter a number for List : 500\n",
      "The list of entered numbers is : [25, 11, 666, 97, 999, 500]\n",
      "The Largest of numbers in the List is :  999\n"
     ]
    }
   ],
   "source": [
    "# 3.     Updated code.\n",
    "\n",
    "numbers_list = []                   # Initializing list to store the numbers.\n",
    "  \n",
    "n = int(input(\"Please enter the count of numbers to be in List : \"))   # user inputs no.of elements required in list.\n",
    "for i in range(0, n):\n",
    "    numbers = int(input(\"Enter a number for List : \"))                # user inputs the elements in list. \n",
    "    numbers_list.append(numbers)                                      # for each iteration appending the user inputted elements.\n",
    "print(\"The list of entered numbers is :\",numbers_list)\n",
    "\n",
    "largest =0                             # Initializing the largest number to 0 \n",
    "for j in numbers_list:\n",
    "    if largest < j:          # condition if element in particular iteration is greater than the largest till that iteration\n",
    "        largest = j               # calculating largest number for each iteration.\n",
    "print(\"The Largest of numbers in the List is : \", largest)"
   ]
  },
  {
   "cell_type": "code",
   "execution_count": 25,
   "metadata": {},
   "outputs": [
    {
     "name": "stdout",
     "output_type": "stream",
     "text": [
      "The Smallest of numbers in the List is :  1\n"
     ]
    }
   ],
   "source": [
    "# 3. Finding the smallest number in a sequence\n",
    "\n",
    "numbers_list = [1,2,3,4,5,6,7]     # defining the lsit\n",
    "smallest =numbers_list[0]                             # Initializing the smallest number to 1st element in list \n",
    "for j in numbers_list:\n",
    "    if smallest > j :          # condition if element in particular iteration is less than the smallest till that iteration\n",
    "        smallest = j               # calculating smallest number for each iteration.\n",
    "print(\"The Smallest of numbers in the List is : \", smallest)"
   ]
  },
  {
   "cell_type": "code",
   "execution_count": 28,
   "metadata": {},
   "outputs": [
    {
     "name": "stdout",
     "output_type": "stream",
     "text": [
      "Please enter the count of numbers to be in List : 4\n",
      "Enter a number for List : 333\n",
      "Enter a number for List : 222\n",
      "Enter a number for List : 444\n",
      "Enter a number for List : 111\n",
      "The list of entered numbers is : [333, 222, 444, 111]\n",
      "The Smallest of numbers in the List is :  111\n"
     ]
    }
   ],
   "source": [
    "# 4.     Updated code.\n",
    "\n",
    "numbers_list = []                   # Initializing list to store the numbers.\n",
    "  \n",
    "n = int(input(\"Please enter the count of numbers to be in List : \"))   # user inputs no.of elements required in list.\n",
    "for i in range(0, n):\n",
    "    numbers = int(input(\"Enter a number for List : \"))                # user inputs the elements in list. \n",
    "    numbers_list.append(numbers)                                      # for each iteration appending the user inputted elements.\n",
    "print(\"The list of entered numbers is :\",numbers_list)\n",
    "\n",
    "smallest =numbers_list[0]                           # Initializing the smallest number to 1st element in list \n",
    "for j in numbers_list:\n",
    "    if smallest > j:          # condition if element in particular iteration is less than the smallest till that iteration\n",
    "        smallest = j               # calculating smallest number for each iteration.\n",
    "print(\"The Smallest of numbers in the List is : \", smallest)"
   ]
  },
  {
   "cell_type": "markdown",
   "metadata": {},
   "source": [
    "# Introducing range()"
   ]
  },
  {
   "cell_type": "markdown",
   "metadata": {},
   "source": [
    "#### Exercise\n",
    "#### Donot use pre-defined functions\n",
    "*1. Calculate the sum of first n integers*|\n",
    "*2. Calculate the mean of the first n integers.*\n",
    "*3. Calculate the standard deviation of the first n integers*"
   ]
  },
  {
   "cell_type": "markdown",
   "metadata": {},
   "source": [
    "# Exercise\n",
    "\n",
    "All the above problems using loops and data validation"
   ]
  },
  {
   "cell_type": "markdown",
   "metadata": {},
   "source": [
    "# Exercise\n",
    "\n",
    "All the above problems with exception handling"
   ]
  },
  {
   "cell_type": "code",
   "execution_count": 31,
   "metadata": {},
   "outputs": [
    {
     "name": "stdout",
     "output_type": "stream",
     "text": [
      "The sum of first  10  natural numbers is : 55\n"
     ]
    }
   ],
   "source": [
    "# 1 . Sum of first n integers \n",
    "\n",
    "def n_sum(n):\n",
    "    try :                                       # Error handling using try and except \n",
    "        Sum = 0                                 # Initializing the sum\n",
    "        for n in range(0,n+1):\n",
    "            Sum += n                              # calculating sum for each iteration.\n",
    "        print(\"The sum of first \", n ,\" natural numbers is :\",Sum)\n",
    "    except:\n",
    "        print(\"Please enter a only numbers.\")   # message printed when aguments in function are other than integers.\n",
    "n_sum(10)"
   ]
  },
  {
   "cell_type": "code",
   "execution_count": 35,
   "metadata": {},
   "outputs": [
    {
     "name": "stdout",
     "output_type": "stream",
     "text": [
      "Please enter a only numbers.\n"
     ]
    }
   ],
   "source": [
    "# 1 . Sum of first n integers \n",
    "\n",
    "def n_sum(n):\n",
    "    try :\n",
    "        Sum = 0\n",
    "        for n in range(0,n+1):\n",
    "            Sum += n\n",
    "        print(\"The sum of first \", n ,\" natural numbers is :\",Sum)\n",
    "    except:\n",
    "        print(\"Please enter a only numbers.\")\n",
    "n_sum('praxis')"
   ]
  },
  {
   "cell_type": "code",
   "execution_count": 36,
   "metadata": {},
   "outputs": [
    {
     "name": "stdout",
     "output_type": "stream",
     "text": [
      "The Mean of first  10  natural numbers is : 5.5\n"
     ]
    }
   ],
   "source": [
    "# 2 . Sum of first n integers \n",
    "\n",
    "def n_mean(n):\n",
    "    try :\n",
    "        Sum = 0                  # Error handling using try and except \n",
    "        for n in range(0,n+1):   # Initializing the sum\n",
    "            Sum += n             # calculating sum for each iteration.\n",
    "        mean = Sum/n            # calculating mean\n",
    "        print(\"The Mean of first \", n ,\" natural numbers is :\",mean)\n",
    "    except:\n",
    "        print(\"Please enter a only numbers.\")   # message printed when aguments in function are other than integers.\n",
    "n_mean(10)"
   ]
  },
  {
   "cell_type": "code",
   "execution_count": 43,
   "metadata": {},
   "outputs": [
    {
     "name": "stdout",
     "output_type": "stream",
     "text": [
      "The Mean of first  5  natural numbers is : 3.0\n",
      "The Standard deviation of first  5  integers is : 1.4142135623730951\n"
     ]
    }
   ],
   "source": [
    "import math    # imported math package to use the square root.\n",
    "def n_stddev(number):\n",
    "    try :\n",
    "        Sum = 0                                                                # Error handling using try and except \n",
    "        for n in range(0,number+1):                                            # Initializing the sum\n",
    "            Sum += n                                                           # calculating sum for each iteration.\n",
    "        mean = Sum/number                                                      # calculating mean\n",
    "        print(\"The Mean of first \", number ,\" natural numbers is :\",mean)\n",
    "        dev_sum = 0                                                            # Initilizating deviation sum to 0.\n",
    "        for num in range(1,number+1):\n",
    "            dev_sum += (num-mean)**2                                           # calculating sum of all deviations.\n",
    "        std_dev = math.sqrt(dev_sum/number)                                    # calculating standard deviation\n",
    "        print(\"The Standard deviation of first \",number,\" integers is :\",std_dev)\n",
    "    except:\n",
    "        print(\"Please enter a only numbers.\")   # message printed when aguments in function are other than integers.\n",
    "n_stddev(5)"
   ]
  },
  {
   "cell_type": "code",
   "execution_count": 44,
   "metadata": {},
   "outputs": [
    {
     "name": "stdout",
     "output_type": "stream",
     "text": [
      "Please enter a only numbers.\n"
     ]
    }
   ],
   "source": [
    "import math    # imported math package to use the square root.\n",
    "def n_stddev(number):\n",
    "    try :\n",
    "        Sum = 0                                                           # Error handling using try and except \n",
    "        for n in range(0,number+1):                                       # Initializing the sum\n",
    "            Sum += n                                                      # calculating sum for each iteration.\n",
    "        mean = Sum/number                                                 # calculating mean\n",
    "        print(\"The Mean of first \", number ,\" natural numbers is :\",mean)\n",
    "        dev_sum = 0                                                       # Initilizating deviation sum to 0.\n",
    "        for num in range(1,number+1):\n",
    "            dev_sum += (num-mean)**2                                      # calculating sum of all deviations.\n",
    "        std_dev = math.sqrt(dev_sum/number)                               # calculating standard deviation.\n",
    "        print(\"The Standard deviation of first \",number,\" integers is :\",std_dev)\n",
    "    except:\n",
    "        print(\"Please enter a only numbers.\")   # message printed when aguments in function are other than integers.\n",
    "n_stddev('praxis')"
   ]
  },
  {
   "cell_type": "markdown",
   "metadata": {},
   "source": [
    "# Session 3\n",
    "# Playing with while loop;  break and continue"
   ]
  },
  {
   "cell_type": "markdown",
   "metadata": {},
   "source": [
    "#### Exercise:\n",
    "\n",
    "Suppose that a player wants to play a game which requires him Rs. 1,000 to start. If the current balance in his account is less than Rs. 1,000 he needs to withdraw the extra money from his e-wallet.\n",
    "\n",
    "Note that if the sum of money in his courrent account and the amount withdrawn is greater than or equal to Rs. 1,000 then he can start playing the game. However if the sum is less than Rs. 1,000 then the program should keep displaying the user the message “You still do not have enough money to start playing.” and keep prompting the user to withdraw money unless it crosses Rs. 1,000. Once ready, i.e. if his current account balance crosses Rs. 1,000, it will display a message “Now, you are ready to play the game.” Your program should also display the account balance and the current amount in the e-wallet.\n",
    "\n",
    "(consider: initial account balance is Rs. 200 and money in the e-wallet is Rs. 5,000)\n",
    "\n",
    "(Do further improvement by checking if the e-wallet balance becomes NIL, etc.)"
   ]
  },
  {
   "cell_type": "code",
   "execution_count": 3,
   "metadata": {},
   "outputs": [
    {
     "name": "stdout",
     "output_type": "stream",
     "text": [
      "The Crrent Account balance is Rs :  200\n",
      "The current E-wallet balance is Rs :  800\n",
      "You still don't have enough money to start playing. The minimum amount required is 1000\n",
      "Enter the amount to be withdrawn from E-wallet to start the game :500\n",
      "The Crrent Account balance is Rs :  700\n",
      "The Remaning E-wallet balance is Rs :  300\n",
      "Please confirm if you want to play the game (yes/no) :yes\n",
      "You still don't have enough money to start playing. The minimum amount required is 1000\n",
      "Enter the amount to be withdrawn from E-wallet to start the game :300\n",
      "The Crrent Account balance is Rs :  1000\n",
      "The Remaning E-wallet balance is Rs :  0\n",
      "Now you are ready to play the game!\n",
      "Please confirm if you want to play the game (yes/no) :no\n",
      "The Crrent Account balance is Rs :  1000\n",
      "The Remaning E-wallet balance is Rs :  0\n",
      "Have a wonderful day!\n"
     ]
    }
   ],
   "source": [
    "Current_Acc_Balance = 200             # Defining current account balance\n",
    "E_Wallet = 800                   # Defining E-wallet balance\n",
    "\n",
    "print(\"The Crrent Account balance is Rs : \",Current_Acc_Balance)\n",
    "print(\"The current E-wallet balance is Rs : \",E_Wallet)\n",
    "\n",
    "while (Current_Acc_Balance < 1000):     # condition to check minimum current account balance to play the game  \n",
    "                                    \n",
    "    print(\"You still don't have enough money to start playing. The minimum amount required is 1000\") \n",
    "    Withdraw = int(input(\"Enter the amount to be withdrawn from E-wallet to start the game :\")) # amnt to withdraw from E-wallet\n",
    "    Current_Acc_Balance += Withdraw       #  withdrwan amount added to current account.\n",
    "    E_Wallet -= Withdraw                  # Remaning E-wallet balance.\n",
    "    \n",
    "    print(\"The Crrent Account balance is Rs : \",Current_Acc_Balance)\n",
    "    print(\"The Remaning E-wallet balance is Rs : \",E_Wallet)\n",
    "    \n",
    "    if ( Current_Acc_Balance >= 1000 ):                     # if condition to check minimum current account balance to play the game\n",
    "        print(\"Now you are ready to play the game!\")    #  is reached, game is played.\n",
    "        \n",
    "    Decision = str(input(\"Please confirm if you want to play the game (yes/no) :\")).lower()\n",
    "    if Decision == 'yes':                         # Asking user for next round game. \n",
    "        if E_Wallet <= 0:                         # condition for Nill E-wallet balance\n",
    "            print(\"Nill balance in E-wallet.\")\n",
    "        else :\n",
    "            continue\n",
    "    if Decision == 'no':                               # condition if user doesn't want to play next round\n",
    "        print(\"The Crrent Account balance is Rs : \",Current_Acc_Balance)\n",
    "        print(\"The Remaning E-wallet balance is Rs : \",E_Wallet)\n",
    "        print(\"Have a wonderful day!\")\n",
    "        break\n",
    "    \n",
    "    "
   ]
  },
  {
   "cell_type": "markdown",
   "metadata": {},
   "source": [
    "#### Exercise:\n",
    "\n",
    "Guess a number is a game that prompts a player to guess a number between 0 and 9, which is randomly generated by the system. When the input given by the user matches the number generated by the system then the user wins. The game should go as follows:\n",
    "\t\n",
    "\tGuess the number: 5\n",
    "\tSorry, try again\n",
    "\tGuess the number: 3\n",
    "\tSorry, try again\n",
    "\tGuess the number: 8\n",
    "\tYou got it right! Congo!\n",
    "    \n",
    "    Guess the number: 5\n",
    "\tSorry, try again\n",
    "\tGuess the number: 3\n",
    "\tSorry, try again\n",
    "\tGuess the number: exit\n",
    "\tEnjoy your day!"
   ]
  },
  {
   "cell_type": "code",
   "execution_count": 70,
   "metadata": {},
   "outputs": [
    {
     "name": "stdout",
     "output_type": "stream",
     "text": [
      "Guess the number between 0 and 9 : 3\n",
      "Sorry, Try again.\n",
      "Guess the number between 0 and 9 : 2\n",
      "Sorry, Try again.\n",
      "Guess the number between 0 and 9 : 1\n",
      "Sorry, Try again.\n",
      "Guess the number between 0 and 9 : 8\n",
      "Sorry, Try again.\n",
      "Guess the number between 0 and 9 : 7\n",
      "You got it right! Congo!\n",
      "The number of guesses taken are : 5\n"
     ]
    }
   ],
   "source": [
    "import random\n",
    "\n",
    "Rand_num = random.randint(0,9)  # random number generated between 0 and 9 \n",
    "Guesses_Count =0                # defining gussess count as 0.\n",
    "while True :\n",
    "    Guess = input(\"Guess the number between 0 and 9 : \")\n",
    "    Guesses_Count += 1                             # gussess count increases till condition is met\n",
    "    if (Guess == str(Rand_num)) :                  # condition if guess is equal to random number generated\n",
    "        print(\"You got it right! Congo!\")\n",
    "        print (\"The number of guesses taken are :\",Guesses_Count)  # total number og gusses are printed.\n",
    "        break\n",
    "    elif (Guess != str(Rand_num)) :              # condition if guess not equal to generated random number.\n",
    "        print(\"Sorry, Try again.\")\n",
    "        continue\n",
    "    elif (Guess == 'exit'):                      # condition to exit the game\n",
    "        print(\"Enjoy your day!\")\n",
    "  "
   ]
  },
  {
   "cell_type": "code",
   "execution_count": 74,
   "metadata": {},
   "outputs": [
    {
     "name": "stdout",
     "output_type": "stream",
     "text": [
      "Guess the number between 0 and 9 : 1\n",
      "Sorry, Try again.\n",
      "Guess the number between 0 and 9 : 5\n",
      "Sorry, Try again.\n",
      "Guess the number between 0 and 9 : 2\n",
      "Sorry, Try again.\n",
      "Guess the number between 0 and 9 : exit\n",
      "Enjoy your day!\n"
     ]
    }
   ],
   "source": [
    "import random\n",
    "\n",
    "Rand_num = random.randint(0,9)  # random number generated between 0 and 9 \n",
    "Guesses_Count =0                # defining gussess count as 0.\n",
    "while True :\n",
    "    Guess = input(\"Guess the number between 0 and 9 : \")\n",
    "    Guesses_Count += 1                             # gussess count increases till condition is met\n",
    "    if (Guess == str(Rand_num)) :                  # condition if guess is equal to random number generated\n",
    "        print(\"You got it right! Congo!\")\n",
    "        print (\"The number of guesses taken are :\",Guesses_Count)  # total number og gusses are printed.\n",
    "        break\n",
    "    elif (Guess == 'exit'):                      # condition to exit the game (wrote as 2nd condition because the loop continues\n",
    "        print(\"Enjoy your day!\")                  # if this condition is in 3rd place , because of continue statement.)  \n",
    "        break\n",
    "    elif (Guess != str(Rand_num)) :              # condition if guess not equal to generated random number.\n",
    "        print(\"Sorry, Try again.\")\n",
    "        continue\n"
   ]
  },
  {
   "cell_type": "markdown",
   "metadata": {},
   "source": [
    "# Make another additional improvement"
   ]
  },
  {
   "cell_type": "markdown",
   "metadata": {},
   "source": [
    "If the user enters “forgot password”, display a hint and again prompt for password. (But the user will get only 5 chances to enter the password)"
   ]
  },
  {
   "cell_type": "code",
   "execution_count": 46,
   "metadata": {},
   "outputs": [
    {
     "name": "stdout",
     "output_type": "stream",
     "text": [
      "Please Enter Your Passwordkarthik\n",
      "Please enter correct password or give 'forgot password' for a hint.\n",
      "Please Enter Your Passwordforgot password\n",
      "Hint : You are studying here now.\n",
      "Please Enter Your PasswordPraxisBusinessSchool\n",
      "Your have successfully logged in.\n"
     ]
    }
   ],
   "source": [
    "Actual_Password = \"PraxisBusinessSchool\"    # Actual Password declared.\n",
    "No_of_Tries = 0                             # variable to declare number of times user tried.\n",
    "\n",
    "while True :\n",
    "    password_entered = input(\"Please Enter Your Password\")   # User Inputs Password.\n",
    "    if password_entered == 'forgot password':                 # condition if user gives 'forgot password'.\n",
    "        print(\"Hint : You are studying here now.\")            # gives hint for the password to user.\n",
    "        continue\n",
    "    elif password_entered == 'PraxisBusinessSchool':         # condition if correct password is entered.\n",
    "        print(\"Your have successfully logged in.\")\n",
    "        break\n",
    "    else :\n",
    "        print(\"Please enter correct password or give 'forgot password' for a hint.\")  # condition if user enters anything \n",
    "        continue                                        # other than actual password and 'forgot password'.\n",
    "    No_of_Tries +=1\n",
    "    if No_of_Tries > 5:                                 # User will get only 5 chances to try the password, not more than that.\n",
    "        print(\"Your 5 chances are finished.\")\n",
    "        break\n",
    "            "
   ]
  },
  {
   "cell_type": "code",
   "execution_count": 5,
   "metadata": {},
   "outputs": [
    {
     "name": "stdout",
     "output_type": "stream",
     "text": [
      "Please Enter Your Password : a\n",
      "Please enter correct password or give 'forgot password' for a hint.\n",
      "Please Enter Your Password : b\n",
      "Please enter correct password or give 'forgot password' for a hint.\n",
      "Please Enter Your Password : c\n",
      "Please enter correct password or give 'forgot password' for a hint.\n",
      "Please Enter Your Password : d\n",
      "Please enter correct password or give 'forgot password' for a hint.\n",
      "Please Enter Your Password : e\n",
      "Please enter correct password or give 'forgot password' for a hint.\n",
      "Your 5 chances are finished.Please try again after 10 sec.\n",
      "Please Enter Your Password : forgot password\n",
      "Hint : You are studying here now.\n",
      "Please Enter Your Password : PraxisBusinessSchool\n",
      "Your have successfully logged in.\n"
     ]
    }
   ],
   "source": [
    "import time                                                 # imported time module for waiting time.\n",
    "Actual_Password = \"PraxisBusinessSchool\"                    # Actual Password declared.\n",
    "No_of_Tries = 0                                              # variable to declare number of times user tried.\n",
    "while True :\n",
    "    password_entered = input(\"Please Enter Your Password : \")    # User Inputs Password.\n",
    "    if password_entered == 'forgot password':                     # condition if user gives 'forgot password'.\n",
    "        print(\"Hint : You are studying here now.\")                # gives hint for the password to user.\n",
    "        No_of_Tries +=1\n",
    "    elif password_entered == 'PraxisBusinessSchool':         # condition if correct password is entered.\n",
    "        print(\"Your have successfully logged in.\")\n",
    "        break\n",
    "    else :\n",
    "        print(\"Please enter correct password or give 'forgot password' for a hint.\") # condition if user enters anything \n",
    "        No_of_Tries +=1                                                      # other than actual password and 'forgot password'.\n",
    "    if No_of_Tries >= 5:                                                    # User will get only 5 chances to try the password.\n",
    "        print(\"Your 5 chances are finished.Please try again after 10 sec.\")\n",
    "        time.sleep(10)                                  # After 5 chances user have to wait for 10 sec to retry password.\n",
    "        No_of_Tries = 0\n",
    "            "
   ]
  },
  {
   "cell_type": "markdown",
   "metadata": {},
   "source": [
    "# Session 4\n",
    "# Strings"
   ]
  },
  {
   "cell_type": "markdown",
   "metadata": {},
   "source": [
    "### Exercise\n",
    "**Let's transverse a string:**\n",
    "\n",
    "Transversal of the following string\n",
    "\n",
    "    pineapple\n",
    "\n",
    "will be:\n",
    "    \n",
    "    p\n",
    "    i\n",
    "    n\n",
    "    e\n",
    "    a\n",
    "    p\n",
    "    p\n",
    "    l\n",
    "    e"
   ]
  },
  {
   "cell_type": "code",
   "execution_count": 21,
   "metadata": {},
   "outputs": [
    {
     "name": "stdout",
     "output_type": "stream",
     "text": [
      "p\n",
      "i\n",
      "n\n",
      "e\n",
      "a\n",
      "p\n",
      "p\n",
      "l\n",
      "e\n"
     ]
    }
   ],
   "source": [
    "string = 'pineapple'\n",
    "for x in string :    # string is iterated using 'for' loop and all chars are printed.\n",
    "    print(x)"
   ]
  },
  {
   "cell_type": "markdown",
   "metadata": {},
   "source": [
    "**Exercise:**\n",
    "\n",
    "Write a while loop that starts at the last character in the string and works its way backwards to the first character in the string, printing each letter on a separate line, except backwards"
   ]
  },
  {
   "cell_type": "code",
   "execution_count": 22,
   "metadata": {},
   "outputs": [
    {
     "name": "stdout",
     "output_type": "stream",
     "text": [
      "e\n",
      "l\n",
      "p\n",
      "p\n",
      "a\n",
      "e\n",
      "n\n",
      "i\n",
      "p\n"
     ]
    }
   ],
   "source": [
    "# Reverse of a string using loops\n",
    "string ='pineapple'\n",
    "length =len(string)    # geting length of the string.\n",
    "while length > 0:  \n",
    "    print (string[length-1])   # If length > 0 , iterate through the string in reverse order by decrementing lenght of string  \n",
    "    length -=1              #  by 1 for each iteration."
   ]
  },
  {
   "cell_type": "markdown",
   "metadata": {},
   "source": [
    "#### Create function called IN(sub, string) which checks if a substring is present inside the string. You are lmited to the concepts of loop, control statement and string subsetting only. DONOT use string functions."
   ]
  },
  {
   "cell_type": "code",
   "execution_count": 4,
   "metadata": {},
   "outputs": [
    {
     "name": "stdout",
     "output_type": "stream",
     "text": [
      "The length of string is : 22\n",
      "The length of substring string  is : 6\n",
      "TRUE\n",
      "The Praxis is present in Praxis Business School\n"
     ]
    }
   ],
   "source": [
    "def IN(string,sub_string):\n",
    "    string_length = 0     # defining the length of the string\n",
    "    sub_string_length = 0 # defining the length of the substring\n",
    "    \n",
    "    for l_str in string :  # Finding the length of the input string\n",
    "        string_length +=1\n",
    "    print(\"The length of string is :\", string_length)\n",
    "        \n",
    "    for l_sub_strr in sub_string: # Finding the length of the input substring\n",
    "        sub_string_length +=1\n",
    "    print(\"The length of substring string  is :\" ,sub_string_length)   \n",
    "    for length in range (0,string_length):\n",
    "        \n",
    "        if string[length:sub_string_length+length] == sub_string: # condition to match substring, did substring_length + length to move accross 1 position at begining and at last \n",
    "            print (\"TRUE\")\n",
    "            print (\"The \" + sub_string + \" is present in \" + string)\n",
    "            break\n",
    "        elif string[length:sub_string_length+length] != sub_string :\n",
    "            continue\n",
    "        else :\n",
    "            print (\"No, the \" + sub_string + \" is not present in \" + string)\n",
    "            break\n",
    "IN('Praxis Business School','Praxis')"
   ]
  },
  {
   "cell_type": "markdown",
   "metadata": {},
   "source": [
    "#### Create a function FIND(sub, string, start, end). The function must map to an integer. It should return lowest index of sub fround in string. Start and end args are optional, default = 0 and len(string). Return -1 if not found. Use validation to check if sub and string are str or not."
   ]
  },
  {
   "cell_type": "code",
   "execution_count": 7,
   "metadata": {},
   "outputs": [
    {
     "name": "stdout",
     "output_type": "stream",
     "text": [
      "The position of the sub_strng Worth is : 15\n"
     ]
    }
   ],
   "source": [
    "string ='' \n",
    "sub_string =''\n",
    "def FIND(string,sub_string,start=0,end=len(string)):\n",
    "    string_length = 0     # defining the length of the string\n",
    "    sub_string_length = 0 # defining the length of the substring\n",
    "    \n",
    "    for l_str in string :  # Finding the length of the input string\n",
    "        string_length +=1\n",
    "        \n",
    "    for l_sub_strr in sub_string: # Finding the length of the input substring\n",
    "        sub_string_length +=1\n",
    "        \n",
    "    for length in range (0,string_length):     \n",
    "        \n",
    "        if string[length:sub_string_length+length] == sub_string:  # Conditions to check for the substring\n",
    "            print (\"The position of the sub_strng \" + sub_string + \" is :\",length)\n",
    "            break\n",
    "        elif string[length:sub_string_length+length] != sub_string :\n",
    "            continue\n",
    "    else :                                                         # print '-1' if the substring doesn't match the entire string\n",
    "        print ('-1')\n",
    "FIND(\"Celebrate Your Worth\",\"Worth\",2,5)"
   ]
  },
  {
   "cell_type": "markdown",
   "metadata": {},
   "source": [
    "### Exercises:\n",
    "\n",
    "*  Write a Python program to get a string from a given string where all occurrences of its first char have been changed to '$', except the first char itself. Go to the editor \n",
    "\n",
    "        Sample String : 'restart'\n",
    "        Expected Result : 'resta$t'"
   ]
  },
  {
   "cell_type": "code",
   "execution_count": 4,
   "metadata": {},
   "outputs": [
    {
     "name": "stdout",
     "output_type": "stream",
     "text": [
      "Sample String :restart\n",
      "Expected Result :  resta$t\n"
     ]
    }
   ],
   "source": [
    "string = input(\"Sample String :\")\n",
    "first_char = string[0]                # first char of the string.\n",
    "replaced = string.replace(first_char,'$')   # using replace function to replace the characters.\n",
    "final = first_char + replaced[1:]      # replaced all occurances of 1st char with $ except 1st occurance. used string concatination.\n",
    "print(\"Expected Result : \",final)\n"
   ]
  },
  {
   "cell_type": "markdown",
   "metadata": {},
   "source": [
    "* Write a Python program to add 'ing' at the end of a given string (length should be at least 3). If the given string already ends with 'ing' then add 'ly' instead. If the string length of the given string is less than 3, leave it unchanged. Go to the editor \n",
    "        Sample String : 'abc'\n",
    "        Expected Result : 'abcing' \n",
    "        Sample String : 'string'\n",
    "        Expected Result : 'stringly'\n",
    "\n",
    "* Create a function that will find a substring in a given string. In other word create a function that is similar to the find method."
   ]
  },
  {
   "cell_type": "code",
   "execution_count": 27,
   "metadata": {},
   "outputs": [
    {
     "name": "stdout",
     "output_type": "stream",
     "text": [
      "Please enter the required string :abc\n",
      "abcing\n"
     ]
    }
   ],
   "source": [
    "string = str(input(\"Please enter the required string :\"))\n",
    "length = len(string)                                          # getiing lengrh of string.\n",
    "if length >=3:\n",
    "    if string[-3:] == 'ing':   # if length of string is greater than 3  and last 3 chars are 'ing' , add 'ly' at the end .\n",
    "        print(string+'ly')\n",
    "    else :\n",
    "        print (string + 'ing')   # if last 3 chars are not 'ing' add ing at end of atring."
   ]
  },
  {
   "cell_type": "markdown",
   "metadata": {},
   "source": [
    "* Take the following Python code that stores a string:‘\n",
    "       \n",
    "           string = 'X-DSPAM-Confidence: 0.8475'\n",
    "\n",
    "    Extract the portion of the string after the colon character and then use the float function to convert the extracted string into a floating point number."
   ]
  },
  {
   "cell_type": "code",
   "execution_count": 28,
   "metadata": {},
   "outputs": [
    {
     "name": "stdout",
     "output_type": "stream",
     "text": [
      "0.8475\n"
     ]
    }
   ],
   "source": [
    "string = 'X-DSPAM-Confidence: 0.8475'\n",
    "start = string.find(':')+1            # finding colon in declared string for starting value \n",
    "end = len(string)                     # end value is length of string.\n",
    "print(float(string[start:end]))"
   ]
  },
  {
   "cell_type": "markdown",
   "metadata": {},
   "source": [
    "# Session 5\n",
    "# Files"
   ]
  },
  {
   "cell_type": "markdown",
   "metadata": {},
   "source": [
    "a) For example, if we wanted to read a file and only print out lines which started with the prefix “From:"
   ]
  },
  {
   "cell_type": "code",
   "execution_count": 11,
   "metadata": {},
   "outputs": [
    {
     "name": "stdout",
     "output_type": "stream",
     "text": [
      "From: stephen.marquard@uct.ac.za\n",
      "From: louis@media.berkeley.edu\n",
      "From: zqian@umich.edu\n",
      "From: rjlowe@iupui.edu\n",
      "From: zqian@umich.edu\n",
      "From: rjlowe@iupui.edu\n",
      "From: cwen@iupui.edu\n",
      "From: cwen@iupui.edu\n",
      "From: gsilver@umich.edu\n",
      "From: gsilver@umich.edu\n",
      "From: zqian@umich.edu\n",
      "From: gsilver@umich.edu\n",
      "From: wagnermr@iupui.edu\n",
      "From: zqian@umich.edu\n",
      "From: antranig@caret.cam.ac.uk\n",
      "From: gopal.ramasammycook@gmail.com\n",
      "From: david.horwitz@uct.ac.za\n",
      "From: david.horwitz@uct.ac.za\n",
      "From: david.horwitz@uct.ac.za\n",
      "From: david.horwitz@uct.ac.za\n",
      "From: stephen.marquard@uct.ac.za\n",
      "From: louis@media.berkeley.edu\n",
      "From: louis@media.berkeley.edu\n",
      "From: ray@media.berkeley.edu\n",
      "From: cwen@iupui.edu\n",
      "From: cwen@iupui.edu\n",
      "From: cwen@iupui.edu\n"
     ]
    }
   ],
   "source": [
    "fhand = open(\"mbox-short.txt\")      # opening the file\n",
    "\n",
    "for line in fhand :\n",
    "    if line.startswith(\"From:\"):   # condition that line should start with\n",
    "        line = line.rstrip()    # stripping the spaces at right side end of each line. \n",
    "        print(line)"
   ]
  },
  {
   "cell_type": "markdown",
   "metadata": {},
   "source": [
    "b) Can we have the list of email id?"
   ]
  },
  {
   "cell_type": "code",
   "execution_count": 12,
   "metadata": {},
   "outputs": [
    {
     "name": "stdout",
     "output_type": "stream",
     "text": [
      "stephen.marquard@uct.ac.za\n",
      "louis@media.berkeley.edu\n",
      "zqian@umich.edu\n",
      "rjlowe@iupui.edu\n",
      "zqian@umich.edu\n",
      "rjlowe@iupui.edu\n",
      "cwen@iupui.edu\n",
      "cwen@iupui.edu\n",
      "gsilver@umich.edu\n",
      "gsilver@umich.edu\n",
      "zqian@umich.edu\n",
      "gsilver@umich.edu\n",
      "wagnermr@iupui.edu\n",
      "zqian@umich.edu\n",
      "antranig@caret.cam.ac.uk\n",
      "gopal.ramasammycook@gmail.com\n",
      "david.horwitz@uct.ac.za\n",
      "david.horwitz@uct.ac.za\n",
      "david.horwitz@uct.ac.za\n",
      "david.horwitz@uct.ac.za\n",
      "stephen.marquard@uct.ac.za\n",
      "louis@media.berkeley.edu\n",
      "louis@media.berkeley.edu\n",
      "ray@media.berkeley.edu\n",
      "cwen@iupui.edu\n",
      "cwen@iupui.edu\n",
      "cwen@iupui.edu\n"
     ]
    }
   ],
   "source": [
    "fhand = open(\"mbox-short.txt\")    # opening the file\n",
    "\n",
    "for line in fhand :\n",
    "    if line.startswith(\"From:\"):   # condition that line should start with\n",
    "        line = line.strip()      # line is stripped to remove white spaces at ends of each line.\n",
    "        print(line[line.find(\" \")+1:])  #  condition to search only for the email addresses \n",
    "    "
   ]
  },
  {
   "cell_type": "markdown",
   "metadata": {},
   "source": [
    "c) Extract lines which contain the string “@uct.ac.za” (i.e., they come from the University of Cape Town in South Africa):"
   ]
  },
  {
   "cell_type": "code",
   "execution_count": 13,
   "metadata": {},
   "outputs": [
    {
     "name": "stdout",
     "output_type": "stream",
     "text": [
      "stephen.marquard@uct.ac.za Sat Jan  5 09:14:16 2008\n",
      "nakamura.uits.iupui.edu: apache set sender to stephen.marquard@uct.ac.za using -f\n",
      "stephen.marquard@uct.ac.za\n",
      "stephen.marquard@uct.ac.za\n",
      "david.horwitz@uct.ac.za Fri Jan  4 07:02:32 2008\n",
      "nakamura.uits.iupui.edu: apache set sender to david.horwitz@uct.ac.za using -f\n",
      "david.horwitz@uct.ac.za\n",
      "david.horwitz@uct.ac.za\n",
      "| david.horwitz@uct.ac.za | 2008-01-04 13:05:51 +0200 (Fri, 04 Jan 2008) | 1 line\n",
      "david.horwitz@uct.ac.za Fri Jan  4 06:08:27 2008\n",
      "nakamura.uits.iupui.edu: apache set sender to david.horwitz@uct.ac.za using -f\n",
      "david.horwitz@uct.ac.za\n",
      "david.horwitz@uct.ac.za\n",
      "david.horwitz@uct.ac.za Fri Jan  4 04:49:08 2008\n",
      "nakamura.uits.iupui.edu: apache set sender to david.horwitz@uct.ac.za using -f\n",
      "david.horwitz@uct.ac.za\n",
      "david.horwitz@uct.ac.za\n",
      "david.horwitz@uct.ac.za Fri Jan  4 04:33:44 2008\n",
      "nakamura.uits.iupui.edu: apache set sender to david.horwitz@uct.ac.za using -f\n",
      "david.horwitz@uct.ac.za\n",
      "david.horwitz@uct.ac.za\n",
      "stephen.marquard@uct.ac.za Fri Jan  4 04:07:34 2008\n",
      "nakamura.uits.iupui.edu: apache set sender to stephen.marquard@uct.ac.za using -f\n",
      "stephen.marquard@uct.ac.za\n",
      "stephen.marquard@uct.ac.za\n",
      "The number of lines containing @uct.ac.za are :  25\n"
     ]
    }
   ],
   "source": [
    "fhand = open(\"mbox-short.txt\")   # opening the file\n",
    "string = '@uct.ac.za'         # defining string that is to be searched\n",
    "lines_count  =0               # defining count of lines containing “@uct.ac.za” \n",
    "\n",
    "for line in fhand :\n",
    "    if string in line:         # condition if string is present in line\n",
    "        line = line.strip()  # line is stripped to remove white spaces at ends of each line.\n",
    "        start = line.find(' ')+1  #  start value condition to search only for the exact needed email addresses \n",
    "        print(line[start:])\n",
    "        lines_count +=1           # increasing line count by 1 for each iteration.\n",
    "print(\"The number of lines containing @uct.ac.za are : \",lines_count)"
   ]
  },
  {
   "cell_type": "markdown",
   "metadata": {},
   "source": [
    "d) How many emails were received from University of Cape Town"
   ]
  },
  {
   "cell_type": "code",
   "execution_count": 14,
   "metadata": {},
   "outputs": [
    {
     "name": "stdout",
     "output_type": "stream",
     "text": [
      "stephen.marquard@uct.ac.za Sat Jan  5 09:14:16 2008\n",
      "david.horwitz@uct.ac.za Fri Jan  4 07:02:32 2008\n",
      "david.horwitz@uct.ac.za Fri Jan  4 06:08:27 2008\n",
      "david.horwitz@uct.ac.za Fri Jan  4 04:49:08 2008\n",
      "david.horwitz@uct.ac.za Fri Jan  4 04:33:44 2008\n",
      "stephen.marquard@uct.ac.za Fri Jan  4 04:07:34 2008\n",
      "The number of mailes received from University of Capetown are :  6\n"
     ]
    }
   ],
   "source": [
    "fhand = open(\"mbox-short.txt\")  # opening the file\n",
    "string = '@uct.ac.za'           # defining string that is to be searched\n",
    "lines_count  =0                 # defining count of line which has mail from university of cape town.\n",
    "\n",
    "for line in fhand :\n",
    "    if line.startswith('From ') and string in line:  # condition that line should start with and condition if string is present in line\n",
    "        line = line.strip()               # line is stripped to remove white spaces at ends of each line.\n",
    "        start = line.find(' ')+1          # finding the second occurance of 'space' (' ') in line.\n",
    "        print(line[start:])              #  start value condition to search only for the University of Capetown.\n",
    "        lines_count +=1                    # increasing line count by 1 for each iteration.\n",
    "print(\"The number of mailes received from University of Capetown are : \",lines_count)"
   ]
  },
  {
   "cell_type": "markdown",
   "metadata": {},
   "source": [
    "# Session 6\n",
    "# List"
   ]
  },
  {
   "cell_type": "markdown",
   "metadata": {},
   "source": [
    "[A] Suppose that you are creating a software to track transactions. First this software will prompt for the number of unique items purchased following which it will prompt for the items purchased by the customers and finally return the list of items purchased. Once the list is recorded for one customer it will ask if you want to continue.\n",
    "\n",
    "    Enter the number of unique items purchased: 3\n",
    "    Enter item no. 1 apple\n",
    "    Enter item no. 2 juice\n",
    "    Enter item no. 3 butter\n",
    "\n",
    "    Transaction details:\n",
    "    ['apple', 'juice', 'butter']\n",
    "\n",
    "    Do you want to continue: yes\n",
    "    Enter the number of unique items purchased: 2\n",
    "    Enter item no. 1 bread\n",
    "    Enter item no. 2 jam\n",
    "\n",
    "    Transaction details:\n",
    "    ['bread', 'jam']\n",
    "\n",
    "    Do you want to continue: no"
   ]
  },
  {
   "cell_type": "code",
   "execution_count": 7,
   "metadata": {},
   "outputs": [
    {
     "name": "stdout",
     "output_type": "stream",
     "text": [
      "Enter the enumber of unique items purchased :3\n",
      "Enter the item no . 1 Apple\n",
      "Enter the item no . 2 Juice\n",
      "Enter the item no . 3 Butter\n",
      "Transcation_Details : \n",
      " ['Apple', 'Juice', 'Butter']\n",
      "Do you want to continue ? :Yes\n",
      "Enter the enumber of unique items purchased :2\n",
      "Enter the item no . 1 Bread\n",
      "Enter the item no . 2 Jam\n",
      "Transcation_Details : \n",
      " ['Bread', 'Jam']\n",
      "Do you want to continue ? :No\n"
     ]
    }
   ],
   "source": [
    "while True :\n",
    "    Transcation_Details=[]     # Defining list to store Transcation Details\n",
    "    Num_Items = int(input(\"Enter the enumber of unique items purchased :\"))   \n",
    "    for Num in range(1,Num_Items+1):                       # looping for each unique item\n",
    "        Item = input(\"Enter the item no . %d \" %Num)      \n",
    "        if Item not in Transcation_Details :\n",
    "            Transcation_Details.append(Item)               # appending the list with item deatils\n",
    "    print('Transcation_Details : \\n',Transcation_Details)  # printing Transcation details.\n",
    "    \n",
    "    Opinion = str(input(\"Do you want to continue ? :\")).lower()  # asking customer for opinion\n",
    "                                            # lower in above input because it converts the input to lowe case if next customer \n",
    "                                            # transcation's input is entered in upper case.\n",
    "    if Opinion == 'yes':                               \n",
    "        continue                                     # Transcation continues if user gives input as yes.\n",
    "    elif Opinion == 'no' :                           # Transcation ends if user gives input as no.\n",
    "        break\n",
    "    else :                                 # message if user enters anything else than yes or no.\n",
    "        print(\"Please enter yes / no \")"
   ]
  },
  {
   "cell_type": "markdown",
   "metadata": {},
   "source": [
    "[B] The previous solution (as it is evident) was a very crude solution. Someone in the billing counter has no idea about the number of unique products purchased by a customer. Therefore the program should be designed in such a way that will enable the person in the billing counter to start recording the items once a customer arrives at the billing desk and keep recording the items until it signals done. Once the person is done recording the items of one customer it will ask if he/she need to record one more transaction. If yes it continues...\n",
    "\n",
    "    Enter item no. 1 : apple\n",
    "    Enter item no. 2 : juice\n",
    "    Enter item no. 3 : butter\n",
    "    Enter item no. 4 : done\n",
    "    \n",
    "    Transaction for Customer 1\n",
    "    ['apple', 'juice', 'butter']\n",
    "    \n",
    "    \n",
    "    Next customer? (yes/no): yes\n",
    "    \n",
    "    Enter item no. 1 : bread\n",
    "    Enter item no. 2 : jam\n",
    "    Enter item no. 3 : done\n",
    "    \n",
    "    Transaction for Customer 1\n",
    "    ['bread', 'jam']\n",
    "    \n",
    "    \n",
    "    Next customer? (yes/no): no"
   ]
  },
  {
   "cell_type": "code",
   "execution_count": 8,
   "metadata": {},
   "outputs": [
    {
     "name": "stdout",
     "output_type": "stream",
     "text": [
      "Enter the item no . 1 a\n",
      "Enter the item no . 2 b\n",
      "Enter the item no . 3 c\n",
      "Enter the item no . 4 done\n",
      "Transcation for Customer 1  ['a', 'b', 'c']\n",
      "Next Customer ? (yes/no) :yes\n",
      "Enter the item no . 1 e\n",
      "Enter the item no . 2 f\n",
      "Enter the item no . 3 done\n",
      "Transcation for Customer 2  ['e', 'f']\n",
      "Next Customer ? (yes/no) :no\n"
     ]
    }
   ],
   "source": [
    "Customer_Count = 1   # Assuming minimum Default customer count as 1\n",
    "while True :\n",
    "    Item_Count = 0\n",
    "    Transcation_Details=[]   # Defining list to store Transcation Details\n",
    "    \n",
    "    while True:\n",
    "        \n",
    "        Item_Count +=1\n",
    "        Item = input(\"Enter the item no . %d \" %Item_Count)   # looping for each unique item.\n",
    "        if Item == 'done':                                  # Defining 'done' condition.\n",
    "            break\n",
    "        elif Item not in Transcation_Details :\n",
    "            Transcation_Details.append(Item)                 # appending the list with item transcation details.\n",
    "    print(\"Transcation for Customer %d \" %Customer_Count, Transcation_Details)   # printing Transcation details.\n",
    "    \n",
    "    Next=input(\"Next Customer ? (yes/no) :\").lower()  # checking if transcation is to be continued or not.\n",
    "                                            # lower in above input because it converts the input to lowe case if next customer \n",
    "                                            # transcation's input is entered in upper case.\n",
    "    if Next == 'yes' :                                 # Transcation continues if input is yes.       \n",
    "        Customer_Count += 1                         # cutomer count is increaded by 1.\n",
    "        continue\n",
    "    elif Next == 'no' :                             # Transcation ends if user gives input as no.\n",
    "        break\n",
    "    else :                                           # message if entered anything other than yes or no.\n",
    "        print(\"Please enter yes / no\")"
   ]
  },
  {
   "cell_type": "markdown",
   "metadata": {},
   "source": [
    "[C] Modify the above program such that for every item the software prompts  for the quantity purchases and its price. Finally for each customers, along with the list of items purchases it also gives the bill amount.\n",
    "\n",
    "    Item 1 : apple\n",
    "    Quantity for item 1: 0.5\n",
    "    Price for item 1: 109\n",
    "    Item 2 : juice\n",
    "    Quantity for item 2: 1\n",
    "    Price for item 2: 99\n",
    "    Item 3 : butter\n",
    "    Quantity for item 3: 2\n",
    "    Price for item 3: 45\n",
    "    Item 4 : done\n",
    "    \n",
    "    Transaction for Customer 1\n",
    "    ['apple', 'juice', 'butter']\n",
    "    Total:  243.5\n",
    "    \n",
    "    \n",
    "    Next customer? (yes/no): yes\n",
    "    \n",
    "    Item 1 : bread\n",
    "    Quantity for item 1: 1\n",
    "    Price for item 1: 31\n",
    "    Item 2 : Jam\n",
    "    Quantity for item 2: 1\n",
    "    Price for item 2: 89\n",
    "    Item 3 : done\n",
    "    \n",
    "    Transaction for Customer 1\n",
    "    ['bread', 'Jam']\n",
    "    Total:  120.0\n",
    "    \n",
    "    \n",
    "    Next customer? (yes/no): no"
   ]
  },
  {
   "cell_type": "code",
   "execution_count": 9,
   "metadata": {},
   "outputs": [
    {
     "name": "stdout",
     "output_type": "stream",
     "text": [
      "Item 1 a\n",
      "Quantity for item 1 1\n",
      "Price for item 1 20\n",
      "Item 2 done\n",
      "Transcation for Customer 1  ['a']\n",
      "Total : 20.0\n",
      "Next Customer ? (yes/no) :yes\n",
      "Item 1 a\n",
      "Quantity for item 1 1\n",
      "Price for item 1 20\n",
      "Item 2 b\n",
      "Quantity for item 2 2\n",
      "Price for item 2 40\n",
      "Item 3 done\n",
      "Transcation for Customer 2  ['a', 'b']\n",
      "Total : 80.0\n",
      "Next Customer ? (yes/no) :no\n"
     ]
    }
   ],
   "source": [
    "Customer_Count = 1    # Assuming minimum Default customer count as 1\n",
    "while True :\n",
    "    Transcation_Details =[]   # Defining list to store Transcation Details\n",
    "    Item_Count = 0            # Defining list to store  count of Items\n",
    "    Quantity_Count = 0        # Defining list to store  count of Quantity\n",
    "    Price_Count= 0            # Defining list to store  Price Details\n",
    "    while True :\n",
    "        Item_Count += 1\n",
    "        Quantity_Count += 1\n",
    "        Price_Count += 1\n",
    "        Item = input(\"Item %d \" %Item_Count)   # Inputtting Item\n",
    "        if Item == 'done':\n",
    "            break\n",
    "        elif Item not in Transcation_Details :                         # condition if Item is not in Transcation details\n",
    "            Quantity = input(\"Quantity for item %d \" %Quantity_Count)\n",
    "            Price = input(\"Price for item %d \" %Price_Count)\n",
    "            Transcation_Details.append(Item)                           # appending the list with item transcation deatils\n",
    "    print(\"Transcation for Customer %d \" %Customer_Count, Transcation_Details)\n",
    "    Total = int(Quantity) * float(Price)\n",
    "    print(\"Total :\",Total)\n",
    "    \n",
    "    Next=input(\"Next Customer ? (yes/no) :\").lower()    # checking if the transcation is to be continued or not.\n",
    "                                            # lower in above input because it converts the input to lowe case if next customer \n",
    "                                            # transcation's input is entered in upper case.\n",
    "    if Next == 'yes' :                      # Transcation continues if user gives input as yes.\n",
    "        Customer_Count += 1                  # cutomer count is increaded by 1.\n",
    "        continue\n",
    "    elif  Next == 'no' :                   # Transcation ends if input is no.\n",
    "        break\n",
    "    else :                                 # message if entered anything other than yes or no.\n",
    "        print(\"Please enter yes / no \")"
   ]
  },
  {
   "cell_type": "markdown",
   "metadata": {},
   "source": [
    "[D] I am sure that almost all of you have searched coupon codes to get discounts from Food Panda or Swiggy. Have you noticed that once you have applied a code you cannot apply it again? But the website shows you all. Come on , let us write one such program.\n",
    "\n",
    "    Following are the available list of coupons for Food Panda\n",
    "    ['FP040', 'FP111', 'FPHBD05', 'FP9989', 'HappyMeal']\n",
    "\n",
    "\n",
    "    Type the one you want to apply: FP9989\n",
    "    Congratulation! You have successfully applied this coupon\n",
    "\n",
    "    would you like to use another coupon?yes\n",
    "    Following are the available list of coupons for Food Panda\n",
    "    ['FP040', 'FP111', 'FPHBD05', 'FP9989', 'HappyMeal']\n",
    "\n",
    "\n",
    "    Type the one you want to apply: FP9989\n",
    "    Sorry! You have already applied this coupon\n",
    "\n",
    "    would you like to use another coupon? no\n",
    "\n"
   ]
  },
  {
   "cell_type": "code",
   "execution_count": 2,
   "metadata": {},
   "outputs": [
    {
     "name": "stdout",
     "output_type": "stream",
     "text": [
      "Following are List of coupons for Food Panda :  ['FP040', 'FP111', 'FPHBD05', 'FP9989', 'HappyMeal']\n",
      "Following are List of coupons for Food Panda :  ['FP040', 'FP111', 'FPHBD05', 'FP9989', 'HappyMeal']\n",
      "Type the one you want to apply : FP111\n",
      "Congratulation! You have successfully applied this coupon\n",
      "would you like to use another coupon ? (yes/no)YES\n",
      "Following are List of coupons for Food Panda :  ['FP040', 'FP111', 'FPHBD05', 'FP9989', 'HappyMeal']\n",
      "Type the one you want to apply : FP111\n",
      "Sorry! You have already applied this coupon.\n",
      "would you like to use another coupon ? (yes/no)NT\n",
      "Please enter yes / no \n",
      "Following are List of coupons for Food Panda :  ['FP040', 'FP111', 'FPHBD05', 'FP9989', 'HappyMeal']\n",
      "Type the one you want to apply : FP111\n",
      "Sorry! You have already applied this coupon.\n",
      "would you like to use another coupon ? (yes/no)NO\n",
      "Have a wonderful day!\n"
     ]
    }
   ],
   "source": [
    "\n",
    "\n",
    "coupons_list = ['FP040', 'FP111', 'FPHBD05', 'FP9989', 'HappyMeal']   # Defining total coupons list.\n",
    "\n",
    "print(\"Following are List of coupons for Food Panda : \",coupons_list)\n",
    "\n",
    "Balance_coupons = ['FP040', 'FP111', 'FPHBD05', 'FP9989', 'HappyMeal'] # Defifning Balance coupons lsit to record used coupons.\n",
    "\n",
    "\n",
    "\n",
    "while True :\n",
    "\n",
    "    print(\"Following are List of coupons for Food Panda : \",coupons_list)\n",
    "    \n",
    "    enter_coupon = input(\"Type the one you want to apply : \")    # coupons input from user.\n",
    "    \n",
    "    if (enter_coupon not in coupons_list):                      # condition if user enter coupon which is not present in \n",
    "        print(\"Please enter the coupon present in coupons list.\") #    total coupons list.\n",
    "    \n",
    "    elif (enter_coupon in coupons_list) and (enter_coupon in Balance_coupons):  # condition to successfully use entered coupon.\n",
    "        print(\"Congratulation! You have successfully applied this coupon\")\n",
    "        Balance_coupons.remove(coupons)                                     #  Removing used coupons from balance coupons list. \n",
    "    elif (enter_coupon in coupons_list) and (enter_coupon not in Balance_coupons):\n",
    "        print(\"Sorry! You have already applied this coupon.\")      # message to user.\n",
    "    \n",
    "    Decision = input(\"would you like to use another coupon ? (yes/no)\").lower() # checking if user wants to apply another coupon\n",
    "    if Decision == 'yes':              # used .lower in above input because it converts the input to lowe case if user enters \n",
    "        continue                    # decision upper case. if input is yes,the transcation continues to enter next coupon.\n",
    "    elif Decision == 'no':\n",
    "        print(\"Have a wonderful day!\") # Transcation ends if user gives input as no.\n",
    "        break \n",
    "    else :                             # message if user enters anything else than yes or no.\n",
    "        print(\"Please enter yes / no \")\n",
    "        \n",
    "\n"
   ]
  },
  {
   "cell_type": "markdown",
   "metadata": {},
   "source": [
    "[E] In the files exercises, we had found out the list of email ids from the mbox file. Can we extract the list of unique email ids?\n",
    "\n",
    "    stephen.marquard@uct.ac.za\n",
    "    louis@media.berkeley.edu\n",
    "    zqian@umich.edu\n",
    "    rjlowe@iupui.edu\n",
    "    cwen@iupui.edu\n",
    "    gsilver@umich.edu\n",
    "    wagnermr@iupui.edu\n",
    "    antranig@caret.cam.ac.uk\n",
    "    gopal.ramasammycook@gmail.com\n",
    "    david.horwitz@uct.ac.za\n",
    "    ray@media.berkeley.edu\n",
    "\n",
    "    Total unique contacts = 11"
   ]
  },
  {
   "cell_type": "code",
   "execution_count": 20,
   "metadata": {},
   "outputs": [
    {
     "name": "stdout",
     "output_type": "stream",
     "text": [
      "antranig@caret.cam.ac.uk\n",
      "cwen@iupui.edu\n",
      "david.horwitz@uct.ac.za\n",
      "gopal.ramasammycook@gmail.com\n",
      "gsilver@umich.edu\n",
      "louis@media.berkeley.edu\n",
      "ray@media.berkeley.edu\n",
      "rjlowe@iupui.edu\n",
      "stephen.marquard@uct.ac.za\n",
      "wagnermr@iupui.edu\n",
      "zqian@umich.edu\n",
      "The no.of unique contacts are : 11\n"
     ]
    }
   ],
   "source": [
    "import os\n",
    "os.chdir('C:\\\\Users\\\\lenovo\\\\Desktop\\\\Praxis\\\\Python\\\\Class\\\\Class_5')  # Reading the directory in which file is present.\n",
    "fhand = open(\"mbox-short.txt\")                                          #opening the file.\n",
    "email_list =[]                                                          # defined list to store all unique email id's.\n",
    "count = 0\n",
    "for line in fhand : \n",
    "    if line.startswith ('From:'):           # condition with which the require line shoiuld start.\n",
    "        line = line.strip()                  # line is stripped to remove white spaces at ends of each line.\n",
    "        email = line[line.find(\" \")+1:]     # finding the second occurance of 'space' (' ') in line.\n",
    "        if email not in email_list:\n",
    "            email_list.append(email)        # appending unique mail id's to the list defined.\n",
    "            count += 1\n",
    "#print(email_list)\n",
    "for email_ids in emails :\n",
    "    print(email_ids)                       # printing all unique email id's.\n",
    "print (\"The no.of unique contacts are :\",count)  # printing count of all unique email id's."
   ]
  },
  {
   "cell_type": "markdown",
   "metadata": {},
   "source": [
    "# Session 7\n",
    "# Dictionaries"
   ]
  },
  {
   "cell_type": "markdown",
   "metadata": {},
   "source": [
    "**Exercise:** Find the frequency distribution of the of the words present in this file. \n",
    "\n",
    "*(A hint is given at the bottom. Look at it only if you are no more able to figure out how to do it)*"
   ]
  },
  {
   "cell_type": "code",
   "execution_count": 5,
   "metadata": {},
   "outputs": [
    {
     "name": "stdout",
     "output_type": "stream",
     "text": [
      "{'the': 7, 'a': 5, 'cock': 3, 'and': 3, 'for': 3, 'that': 3, 'pearl': 2, 'he': 2, 'straw': 2, 'ho': 2, 'quoth': 2, 'me': 2, 'it': 2, 'out': 2, 'to': 2, 'be': 2, 'but': 2, 'you': 2, 'prize': 2, 'was': 1, 'once': 1, 'strutting': 1, 'up': 1, 'down': 1, 'farmyard': 1, 'among': 1, 'hens': 1, 'when': 1, 'suddenly': 1, 'espied': 1, 'something': 1, 'shinning': 1, 'amid': 1, 'thats': 1, 'soon': 1, 'rooted': 1, 'from': 1, 'beneath': 1, 'what': 1, 'did': 1, 'turn': 1, 'by': 1, 'some': 1, 'chance': 1, 'had': 1, 'been': 1, 'lost': 1, 'in': 1, 'yard': 1, 'may': 1, 'treasure': 1, 'master': 1, 'men': 1, 'i': 1, 'would': 1, 'rather': 1, 'have': 1, 'single': 1, 'barleycorn': 1, 'than': 1, 'peck': 1, 'of': 1, 'pearls': 1, 'precious': 1, 'things': 1, 'are': 1, 'those': 1, 'can': 1, 'them': 1}\n"
     ]
    }
   ],
   "source": [
    "import string\n",
    "import os\n",
    "os.chdir(\"C:\\\\Users\\\\lenovo\\\\Desktop\\\\Praxis\\\\Python\\\\Class\\\\Class_7\") # Reading the directory in which file is present\n",
    "ashop = open('Ashop.txt')                                              # opening the file.\n",
    "\n",
    "word_count = {}         # defined dictonary to store words and their count\n",
    "\n",
    "for line in ashop:\n",
    "    line = line.rstrip()            # line is stripped to remove white spaces at ends of each line.\n",
    "    line = line.lower()\n",
    "    trans = str.maketrans('','',string.punctuation)  #  does replacing of 1st aegument wih second one and removes the given\n",
    "    line = line.translate(trans)                     #   third argument, here it's removing punctuations in each line.\n",
    "    words = line.split()                             # splitting each line for words.\n",
    "    for word in words:\n",
    "        word_count[word] = word_count.get(word,0)+1   # appending words and counts in dictonary\n",
    "sorted_values = sorted(word_count.values(),reverse=True)   # sorting the dictonary on word count.\n",
    "sorted_word_dict ={}                                      # defining dictonary to store the sorted dictonary.\n",
    "for p in sorted_values:\n",
    "    for l in word_count.keys():                           # condition to check the keys and their values for sorting.\n",
    "        if word_count[l] == p:\n",
    "            sorted_word_dict[l] = word_count[l]          # Adding sorted elements to dictonary.\n",
    "print(sorted_word_dict)"
   ]
  },
  {
   "cell_type": "markdown",
   "metadata": {},
   "source": [
    "**Problem 1**\n",
    "\n",
    "Write a program that categorizes each mail message by which day of the week the commit was done.\n",
    "\n",
    "    Sample Line: \n",
    "    From stephen.marquard@uct.ac.za Sat Jan 5 09:14:16 2008\n",
    "\n",
    "    Sample Execution: \n",
    "    python dow.py \n",
    "    Enter a file name: mbox-short.txt \n",
    "    {'Fri': 20, 'Thu': 6, 'Sat': 1}"
   ]
  },
  {
   "cell_type": "code",
   "execution_count": 3,
   "metadata": {},
   "outputs": [
    {
     "name": "stdout",
     "output_type": "stream",
     "text": [
      "Enter the file name : mbox-short\n",
      "{'fri': 20, 'thu': 6, 'sat': 1}\n"
     ]
    }
   ],
   "source": [
    "import os\n",
    "os.chdir(\"C:\\\\Users\\\\lenovo\\\\Desktop\\\\Praxis\\\\Python\\\\Class\\\\Class_5\") # Reading the directory in which file is present.\n",
    "file_name = input(\"Enter the file name : \")                            # Inputting the required file name.\n",
    "a = len(file_name)\n",
    "if file_name[a-4:a] != '.txt':\n",
    "    file_name = file_name + '.txt'   # if end name file doesn't have .txt, adding .txt at end\n",
    "fhand = open(file_name)              #opening the file.\n",
    "weekday =  {}                        # Defined dictonary to store weekays and their number of occurances in file.\n",
    "for line in fhand:\n",
    "    if line.startswith('From '):    # condition with which the require line shoiuld start.\n",
    "        line = line.strip()\n",
    "        line = line.lower()\n",
    "        #start = line.find(' ',line.find(' ')+1)   # There are extra spaces in the file betwwen From and mail so, diretly \n",
    "        start = -24                                 # used the slicing technique --> (-24,-24+3) \n",
    "        end = start+3                               # -24+3 because the weekdays words are of lenghth 3 \n",
    "        wd = line[start:end]                        # finding week day present in required lines.\n",
    "        weekday[wd] = weekday.get(wd,0) + 1     # storing weekday and its count of occurances in dictonary as key value pairs.\n",
    "\n",
    "# sorting the dictonary based on count of week days occured.\n",
    "sorted_values = sorted(weekday.values(),reverse=True)\n",
    "sorted_weekday_dict ={}                               # defining dictonary to store the sorted dictonary.\n",
    "for p in sorted_values:\n",
    "    for l in weekday.keys():                   \n",
    "        if weekday[l] == p:                             # condition to check the keys and their values for sorting.\n",
    "            sorted_weekday_dict[l] = weekday[l]         # Adding sorted elements to dictonary.\n",
    "print(sorted_weekday_dict)                              #printing the sorted dictonary.\n"
   ]
  },
  {
   "cell_type": "markdown",
   "metadata": {},
   "source": [
    "**Problem 2**\n",
    "\n",
    "From where did they receive most of their messages\n",
    "\n",
    "    Enter a file name: mbox.txt \n",
    "    zqian@umich.edu 195"
   ]
  },
  {
   "cell_type": "code",
   "execution_count": 2,
   "metadata": {},
   "outputs": [
    {
     "name": "stdout",
     "output_type": "stream",
     "text": [
      "Enter the file name : mbox\n",
      "The maximum number of emails are from 'zqian@umich.edu' and number of emails received are 195\n"
     ]
    }
   ],
   "source": [
    "import os\n",
    "os.chdir(\"C:\\\\Users\\\\lenovo\\\\Desktop\\\\Praxis\\\\Python\\\\Class\\\\Class_5\") # Reading the directory in which file is present.\n",
    "file_name = input(\"Enter the file name : \")                             # Inputting the required file name.\n",
    "a = len(file_name)\n",
    "if file_name[a-4:a] != '.txt':\n",
    "    file_name = file_name + '.txt'   # if end name file doesn't have .txt, adding .txt at end\n",
    "fhand = open(file_name)              # opening the inputted file.\n",
    "mails =[]   # declared  list to store different emails \n",
    "mails_dict ={}    # declared dictinary to store the emails and their counts as key,value pairs \n",
    "\n",
    "for line in fhand :\n",
    "    if line.startswith('From:') :               # condition with which the require line shoiuld start.\n",
    "        line = line.strip()                      # line is stripped to remove white spaces at ends of each line.\n",
    "        mail = line[line.find(' ')+1 : ]                # finding the second occurance of 'space' (' ') in line.\n",
    "        mails_dict[mail] = mails_dict.get(mail,0) + 1  # storing required mail and  it's count of occurances in dictonary.\n",
    "\n",
    "\n",
    "# sorting the dictonary to get email_id from which most emails are received\n",
    "sorted_values = sorted(mails_dict.values(),reverse=True)\n",
    "sorted_mails_dict ={}                                      # defining dictonary to store the sorted dictonary.\n",
    "for p in sorted_values:\n",
    "    for l in mails_dict.keys():                   \n",
    "        if mails_dict[l] == p:                              # condition to check the keys and their values for sorting.\n",
    "            sorted_mails_dict[l] = mails_dict[l]              # Adding sorted elements to dictonary.\n",
    "#print(sorted_weekday_dict)\n",
    "\n",
    "# To get maximum count of mails and corresponding email_id \n",
    "\n",
    "max_mails_count = list(sorted_mails_dict.values())\n",
    "max_mails_email = list(sorted_mails_dict.keys())\n",
    "\n",
    "print(\"The maximum number of emails are from '%s' and number of emails received are %d\" %(max_mails_email[0],max_mails_count[0]))\n",
    "\n",
    "# The firt values in each of these lists will be required email_id and count"
   ]
  },
  {
   "cell_type": "markdown",
   "metadata": {},
   "source": [
    "**Problem 3**\n",
    "\n",
    "Write a program to record the domain name (instead of the address) where the message was sent from instead of who the mail came from (i.e. the whole e-mail address). At the end of the program print out the contents of your dictionary."
   ]
  },
  {
   "cell_type": "code",
   "execution_count": 1,
   "metadata": {},
   "outputs": [
    {
     "name": "stdout",
     "output_type": "stream",
     "text": [
      "Enter the file name : mbox\n"
     ]
    },
    {
     "data": {
      "text/plain": [
       "{'uct.ac.za': 96,\n",
       " 'media.berkeley.edu': 56,\n",
       " 'umich.edu': 491,\n",
       " 'iupui.edu': 536,\n",
       " 'caret.cam.ac.uk': 157,\n",
       " 'gmail.com': 25,\n",
       " 'indiana.edu': 178,\n",
       " 'et.gatech.edu': 17,\n",
       " 'vt.edu': 110,\n",
       " 'lancaster.ac.uk': 14,\n",
       " 'ucdavis.edu': 1,\n",
       " 'ufp.pt': 28,\n",
       " 'txstate.edu': 17,\n",
       " 'stanford.edu': 12,\n",
       " 'whitman.edu': 17,\n",
       " 'rsmart.com': 8,\n",
       " 'fhda.edu': 1,\n",
       " 'bu.edu': 14,\n",
       " 'unicon.net': 9,\n",
       " 'loi.nl': 9,\n",
       " 'utoronto.ca': 1}"
      ]
     },
     "execution_count": 1,
     "metadata": {},
     "output_type": "execute_result"
    }
   ],
   "source": [
    "import os\n",
    "os.chdir(\"C:\\\\Users\\\\lenovo\\\\Desktop\\\\Praxis\\\\Python\\\\Class\\\\Class_5\") # Reading the directory in which file is present.\n",
    "file_name = input(\"Enter the file name : \")                            # Inputting the required file name.\n",
    "a = len(file_name)\n",
    "if file_name[a-4:a] != '.txt':\n",
    "    file_name = file_name + '.txt'   # if end name file doesn't have .txt, adding .txt at end\n",
    "fhand = open(file_name)              # opening the inputted file.\n",
    "mails =[]   # declared  list to store different emails \n",
    "mails_dict ={}    # declared dictinary to store the emails and their counts as key,value pairs \n",
    "\n",
    "for line in fhand :\n",
    "    if line.startswith('From:') :        # condition with which the require line shoiuld start.\n",
    "        line = line.strip()               # line is stripped to remove white spaces at ends of each line.\n",
    "        start = line.find('@')+1  # checking for only domain name --> so checking after @ \n",
    "        mail = line[start:]\n",
    "        mails_dict[mail] = mails_dict.get(mail,0) + 1   # storing the domain names and their count in dictonary defined. \n",
    "mails_dict"
   ]
  },
  {
   "cell_type": "markdown",
   "metadata": {},
   "source": [
    "# Session 8\n",
    "# Tuples"
   ]
  },
  {
   "cell_type": "markdown",
   "metadata": {},
   "source": [
    "**Exercise**\n",
    "\n",
    "Write a program to count the distribution of the hour of the day for each of the messages. \n",
    "    \n",
    "    Sample Execution: \n",
    "    Enter a file name: mbox-short.txt \n",
    "    04 3 \n",
    "    06 1 \n",
    "    07 1 \n",
    "    09 2 \n",
    "    10 3 \n",
    "    11 6 \n",
    "    14 1 \n",
    "    15 2 \n",
    "    16 4 \n",
    "    17 2 \n",
    "    18 1 \n",
    "    19 1"
   ]
  },
  {
   "cell_type": "code",
   "execution_count": 6,
   "metadata": {},
   "outputs": [
    {
     "name": "stdout",
     "output_type": "stream",
     "text": [
      "Enter the file name : mbox-short\n",
      "04 3\n",
      "06 1\n",
      "07 1\n",
      "09 2\n",
      "10 3\n",
      "11 6\n",
      "14 1\n",
      "15 2\n",
      "16 4\n",
      "17 2\n",
      "18 1\n",
      "19 1\n"
     ]
    }
   ],
   "source": [
    "import os\n",
    "os.chdir(\"C:\\\\Users\\\\lenovo\\\\Desktop\\\\Praxis\\\\Python\\\\Class\\\\Class_5\")  # Reading the directory in which file is present.\n",
    "file_name = input(\"Enter the file name : \")                              # Inputting the required file name.\n",
    "a = len(file_name)\n",
    "if file_name[a-4:a] != '.txt':\n",
    "    file_name = file_name + '.txt'   # if end name file doesn't have .txt, adding .txt at end\n",
    "fhand = open(file_name)              # opening the inputted file.\n",
    "Hour =  {}                          # dictionary declared to store different hours and its count of occurances in file.\n",
    "for line in fhand:\n",
    "    if line.startswith('From '):\n",
    "        line = line.strip()\n",
    "        line = line.lower()\n",
    "        #start = line.find(' ',line.find(' ')+1)   # There are extra spaces in the file betwwen From and mail so, diretly \n",
    "        start = -13                                 # used the slicing technique --> (-13,-13+3) \n",
    "        end = start+2                               # -13+2 because the hours in file are of lenghth 2 \n",
    "        hr = line[start:end]\n",
    "        Hour[hr] = Hour.get(hr,0) + 1               # storing different hours and its count of occurances as key, value pairs.\n",
    "sorted_Hour_tuple = sorted(Hour.items(), key = lambda i: i[0]) # Here Hour.items() returns the items i.e, Hour and its count \n",
    "\n",
    "#sorted_Hour_tuple  --> The general output when a dictonary is sorted is a list of tuples -- # Read from internet.\n",
    "\n",
    "# To display the tuple in required output format ---> iterated through the list of Tuples and printed each value\n",
    "for x in range(0,len(sorted_Hour_tuple)):\n",
    "    print(sorted_Hour_tuple[x][0],sorted_Hour_tuple[x][1])"
   ]
  },
  {
   "cell_type": "code",
   "execution_count": null,
   "metadata": {},
   "outputs": [],
   "source": []
  }
 ],
 "metadata": {
  "kernelspec": {
   "display_name": "Python 3",
   "language": "python",
   "name": "python3"
  },
  "language_info": {
   "codemirror_mode": {
    "name": "ipython",
    "version": 3
   },
   "file_extension": ".py",
   "mimetype": "text/x-python",
   "name": "python",
   "nbconvert_exporter": "python",
   "pygments_lexer": "ipython3",
   "version": "3.8.5"
  }
 },
 "nbformat": 4,
 "nbformat_minor": 4
}
