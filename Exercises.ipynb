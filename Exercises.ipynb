{
 "cells": [
  {
   "cell_type": "markdown",
   "metadata": {},
   "source": [
    " 9 march 2021"
   ]
  },
  {
   "cell_type": "code",
   "execution_count": null,
   "metadata": {},
   "outputs": [],
   "source": [
    "# Homework 1 - create a function called In(sub,string), which checks in a substring(sub)\n",
    "# is present inside the string.You are limitted to use conecepts of loops,control statements,\n",
    "# and string subsetting only.Don't use any string functions or string methods.IN function should \n",
    "# return true of false depending upon if sub is present in string or not."
   ]
  },
  {
   "cell_type": "code",
   "execution_count": 22,
   "metadata": {},
   "outputs": [
    {
     "name": "stdout",
     "output_type": "stream",
     "text": [
      "enter the substring :ap\n",
      "pi\n",
      "in\n",
      "ne\n",
      "ea\n",
      "ap\n",
      "pp\n",
      "pl\n",
      "le\n",
      "e\n",
      "9\n"
     ]
    }
   ],
   "source": [
    "string =\"pineapple\"\n",
    "sub_str = str(input(\"enter the substring :\"))\n",
    "b= len(sub_str)\n",
    "length = 0\n",
    "while length < len(string):\n",
    "    print (string[length:length+b])\n",
    "    length += 1\n",
    "print (length)"
   ]
  },
  {
   "cell_type": "code",
   "execution_count": 4,
   "metadata": {},
   "outputs": [
    {
     "name": "stdout",
     "output_type": "stream",
     "text": [
      "TRUE\n",
      "The Praxis is present in Praxis Business School\n"
     ]
    }
   ],
   "source": [
    "def IN(string,sub_string):\n",
    "    string_length = 0     # defining the length of the string\n",
    "    sub_string_length = 0 # defining the length of the substring\n",
    "    \n",
    "    for l_str in string :  # Finding the length of the input string\n",
    "        string_length +=1\n",
    "        \n",
    "    for l_sub_strr in sub_string: # Finding the length of the input substring\n",
    "        sub_string_length +=1\n",
    "        \n",
    "    for length in range (0,string_length):\n",
    "        \n",
    "        if string[length:sub_string_length+length] == sub_string:\n",
    "            print (\"TRUE\")\n",
    "            print (\"The \" + sub_string + \" is present in \" + string)\n",
    "            break\n",
    "        elif string[length:sub_string_length+length] != sub_string :\n",
    "            continue\n",
    "        else :\n",
    "            print (\"No, the \" + sub_string + \" is not present in \" + string)\n",
    "            break\n",
    "IN('Praxis Business School','Praxis')"
   ]
  },
  {
   "cell_type": "code",
   "execution_count": null,
   "metadata": {},
   "outputs": [],
   "source": [
    "#  2. create function FIND(sub, string ,start, end).The function must map to an integer . It should return \n",
    "# lowest index in 'string' where substrig 'sub' is contained within string[start:End].\n",
    "# start and end values are optionl arguments. The default values must be 0 and len(string) respectively\n",
    "# The function must return -1 if 'sub' is not found.\n",
    "\n",
    "# use validation techniques to check if the objects 'sub' and 'string' are str or not\n",
    "#\n",
    "# DO NOT use input() functon (*** -> more weightage)"
   ]
  },
  {
   "cell_type": "code",
   "execution_count": 4,
   "metadata": {},
   "outputs": [
    {
     "name": "stdout",
     "output_type": "stream",
     "text": [
      "Help on built-in function find:\n",
      "\n",
      "find(...) method of builtins.str instance\n",
      "    S.find(sub[, start[, end]]) -> int\n",
      "    \n",
      "    Return the lowest index in S where substring sub is found,\n",
      "    such that sub is contained within S[start:end].  Optional\n",
      "    arguments start and end are interpreted as in slice notation.\n",
      "    \n",
      "    Return -1 on failure.\n",
      "\n"
     ]
    }
   ],
   "source": [
    "my_string = 'pinepple'\n",
    "help(my_string .find)"
   ]
  },
  {
   "cell_type": "code",
   "execution_count": 6,
   "metadata": {},
   "outputs": [
    {
     "name": "stdout",
     "output_type": "stream",
     "text": [
      "The position of the string is : 15\n"
     ]
    }
   ],
   "source": [
    "string ='' \n",
    "sub_string =''\n",
    "def FIND(string,sub_string,start=0,end=len(string)):\n",
    "    string_length = 0     # defining the length of the string\n",
    "    sub_string_length = 0 # defining the length of the substring\n",
    "    \n",
    "    for l_str in string :  # Finding the length of the input string\n",
    "        string_length +=1\n",
    "        \n",
    "    for l_sub_strr in sub_string: # Finding the length of the input substring\n",
    "        sub_string_length +=1\n",
    "        \n",
    "    for length in range (0,string_length):     \n",
    "        \n",
    "        if string[length:sub_string_length+length] == sub_string:  # Conditions to check for the substring\n",
    "            print (\"The position of the string is :\",length)\n",
    "            break\n",
    "        elif string[length:sub_string_length+length] != sub_string :\n",
    "            continue\n",
    "    else :                                                         # print '-1' if the substring doesn't match the entire string\n",
    "        print ('-1')\n",
    "FIND(\"Celebrate Your Worth\",\"Worth\",2,5)"
   ]
  },
  {
   "cell_type": "code",
   "execution_count": null,
   "metadata": {},
   "outputs": [],
   "source": []
  }
 ],
 "metadata": {
  "kernelspec": {
   "display_name": "Python 3",
   "language": "python",
   "name": "python3"
  },
  "language_info": {
   "codemirror_mode": {
    "name": "ipython",
    "version": 3
   },
   "file_extension": ".py",
   "mimetype": "text/x-python",
   "name": "python",
   "nbconvert_exporter": "python",
   "pygments_lexer": "ipython3",
   "version": "3.7.1"
  }
 },
 "nbformat": 4,
 "nbformat_minor": 2
}
